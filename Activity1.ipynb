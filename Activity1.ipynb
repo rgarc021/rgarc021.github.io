{
  "nbformat": 4,
  "nbformat_minor": 0,
  "metadata": {
    "colab": {
      "provenance": [],
      "authorship_tag": "ABX9TyOImxNHJ84YuuWei/8PJX9n",
      "include_colab_link": true
    },
    "kernelspec": {
      "name": "python3",
      "display_name": "Python 3"
    },
    "language_info": {
      "name": "python"
    }
  },
  "cells": [
    {
      "cell_type": "markdown",
      "metadata": {
        "id": "view-in-github",
        "colab_type": "text"
      },
      "source": [
        "<a href=\"https://colab.research.google.com/github/rgarc021/rgarc021.github.io/blob/main/Activity1.ipynb\" target=\"_parent\"><img src=\"https://colab.research.google.com/assets/colab-badge.svg\" alt=\"Open In Colab\"/></a>"
      ]
    },
    {
      "cell_type": "code",
      "execution_count": null,
      "metadata": {
        "colab": {
          "base_uri": "https://localhost:8080/"
        },
        "id": "VthMsRqtH3Co",
        "outputId": "0961387d-3384-4354-f755-3ee6f999c754"
      },
      "outputs": [
        {
          "name": "stdout",
          "output_type": "stream",
          "text": [
            "Start of Income Bracket: 300001\n",
            "Tax Rate: .32\n",
            "Total tax amount owed: 60400\n"
          ]
        }
      ],
      "source": [
        "S = int(input(\"Start of Income Bracket: \"))\n",
        "R = float(input(\"Tax Rate: \"))\n",
        "A = int(input(\"Total tax amount owed: \"))"
      ]
    },
    {
      "cell_type": "code",
      "source": [
        "def calculate_tax(income):\n",
        "  return (income-S) * R + A\n",
        "\n",
        "print(\"Tax Value = \" + str(calculate_tax(350000)))"
      ],
      "metadata": {
        "colab": {
          "base_uri": "https://localhost:8080/"
        },
        "id": "bLcdGPRSJaIb",
        "outputId": "89a49739-0a05-4128-d5b8-5faf226c50a4"
      },
      "execution_count": null,
      "outputs": [
        {
          "output_type": "stream",
          "name": "stdout",
          "text": [
            "Tax Value = 76399.68\n"
          ]
        }
      ]
    }
  ]
}