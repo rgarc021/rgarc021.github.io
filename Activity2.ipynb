{
  "nbformat": 4,
  "nbformat_minor": 0,
  "metadata": {
    "colab": {
      "provenance": [],
      "authorship_tag": "ABX9TyPAqxEc5GMPTOi7LRLSZGyP",
      "include_colab_link": true
    },
    "kernelspec": {
      "name": "python3",
      "display_name": "Python 3"
    },
    "language_info": {
      "name": "python"
    }
  },
  "cells": [
    {
      "cell_type": "markdown",
      "metadata": {
        "id": "view-in-github",
        "colab_type": "text"
      },
      "source": [
        "<a href=\"https://colab.research.google.com/github/rgarc021/rgarc021.github.io/blob/main/Activity2.ipynb\" target=\"_parent\"><img src=\"https://colab.research.google.com/assets/colab-badge.svg\" alt=\"Open In Colab\"/></a>"
      ]
    },
    {
      "cell_type": "code",
      "execution_count": 9,
      "metadata": {
        "colab": {
          "base_uri": "https://localhost:8080/"
        },
        "id": "7UFx28PLSSnE",
        "outputId": "328dd4eb-05c2-4a87-d51a-2b7d27fe5621"
      },
      "outputs": [
        {
          "output_type": "stream",
          "name": "stdout",
          "text": [
            "6\n"
          ]
        }
      ],
      "source": [
        "breakfast = ['apple', 'egg', 'ham', 'donut', 'bagels', 'sausage']\n"
      ]
    },
    {
      "cell_type": "code",
      "source": [
        "list(filter(lambda breakfast: True if len(breakfast) > 3 else False, breakfast))\n"
      ],
      "metadata": {
        "colab": {
          "base_uri": "https://localhost:8080/"
        },
        "id": "j5iRiB7ySZM5",
        "outputId": "18f80313-43b7-4649-e029-cf48f1a02f1f"
      },
      "execution_count": 22,
      "outputs": [
        {
          "output_type": "execute_result",
          "data": {
            "text/plain": [
              "['apple', 'donut', 'bagels', 'sausage']"
            ]
          },
          "metadata": {},
          "execution_count": 22
        }
      ]
    }
  ]
}